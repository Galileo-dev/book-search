{
 "cells": [
  {
   "cell_type": "code",
   "execution_count": 5,
   "metadata": {},
   "outputs": [],
   "source": [
    "import requests\n",
    "import csv\n",
    "\n",
    "response = requests.get(\"https://www.gutenberg.org/cache/epub/feeds/pg_catalog.csv.gz\")\n",
    "response.raise_for_status()\n",
    "csv_text = response.content.decode(\"utf-8\")\n",
    "catalog = list(csv.DictReader(csv_text.splitlines()))\n"
   ]
  },
  {
   "cell_type": "code",
   "execution_count": 11,
   "metadata": {},
   "outputs": [
    {
     "data": {
      "text/plain": [
       "100"
      ]
     },
     "execution_count": 11,
     "metadata": {},
     "output_type": "execute_result"
    }
   ],
   "source": [
    "books = len([\n",
    "        row for row in catalog\n",
    "        if (row[\"Language\"] == \"en\")\n",
    "        and row[\"Type\"] == \"Text\"\n",
    "    ][0:100])\n",
    "\n",
    "books"
   ]
  }
 ],
 "metadata": {
  "kernelspec": {
   "display_name": "base",
   "language": "python",
   "name": "python3"
  },
  "language_info": {
   "codemirror_mode": {
    "name": "ipython",
    "version": 3
   },
   "file_extension": ".py",
   "mimetype": "text/x-python",
   "name": "python",
   "nbconvert_exporter": "python",
   "pygments_lexer": "ipython3",
   "version": "3.10.12"
  }
 },
 "nbformat": 4,
 "nbformat_minor": 2
}
